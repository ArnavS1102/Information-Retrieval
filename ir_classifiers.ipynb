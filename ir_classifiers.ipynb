{
 "cells": [
  {
   "cell_type": "code",
   "execution_count": 1,
   "metadata": {},
   "outputs": [],
   "source": [
    "import numpy as np\n",
    "from sklearn.datasets import fetch_20newsgroups\n",
    "from sklearn.feature_extraction.text import CountVectorizer\n",
    "from sklearn.feature_extraction.text import TfidfTransformer\n",
    "from sklearn.neighbors import KNeighborsClassifier\n",
    "from sklearn.naive_bayes import MultinomialNB\n",
    "from sklearn import metrics\n",
    "from sklearn.neighbors import NearestCentroid"
   ]
  },
  {
   "cell_type": "code",
   "execution_count": 2,
   "metadata": {},
   "outputs": [],
   "source": [
    "categories = ['sci.space','rec.motorcycles','comp.graphics','sci.med','sci.electronics']\n",
    "train_data = fetch_20newsgroups(subset='train',categories=categories, shuffle=True, random_state=42)\n",
    "test_data = fetch_20newsgroups(subset='test',categories=categories, shuffle=True, random_state=42)"
   ]
  },
  {
   "cell_type": "code",
   "execution_count": 3,
   "metadata": {},
   "outputs": [
    {
     "data": {
      "text/plain": [
       "1970"
      ]
     },
     "execution_count": 3,
     "metadata": {},
     "output_type": "execute_result"
    }
   ],
   "source": [
    "test_data.data.__len__()"
   ]
  },
  {
   "cell_type": "code",
   "execution_count": 4,
   "metadata": {},
   "outputs": [],
   "source": [
    "count_vect = CountVectorizer()\n",
    "data= count_vect.fit_transform(train_data.data+test_data.data)"
   ]
  },
  {
   "cell_type": "code",
   "execution_count": 5,
   "metadata": {},
   "outputs": [],
   "source": [
    "trainx=data[:train_data.data.__len__()]\n",
    "testx=data[train_data.data.__len__():]"
   ]
  },
  {
   "cell_type": "code",
   "execution_count": 6,
   "metadata": {},
   "outputs": [],
   "source": [
    "trainy=train_data.target\n",
    "testy=test_data.target"
   ]
  },
  {
   "cell_type": "code",
   "execution_count": 7,
   "metadata": {},
   "outputs": [],
   "source": [
    "tfidf_transformer = TfidfTransformer()\n",
    "trainx_tfidf = tfidf_transformer.fit_transform(trainx)\n",
    "testx_tfidf = tfidf_transformer.fit_transform(testx)"
   ]
  },
  {
   "cell_type": "code",
   "execution_count": 8,
   "metadata": {},
   "outputs": [
    {
     "name": "stdout",
     "output_type": "stream",
     "text": [
      "Accuracy of the trained KNN model is: 81.67512690355329%\n"
     ]
    }
   ],
   "source": [
    "knn = KNeighborsClassifier(n_neighbors=7)\n",
    "clf = knn.fit(trainx_tfidf,trainy)\n",
    "y_pred_knn = clf.predict(testx_tfidf)\n",
    "score_knn = metrics.accuracy_score(testy, y_pred_knn)\n",
    "print(\"Accuracy of the trained KNN model is: \"+str(100*score_knn )+\"%\")"
   ]
  },
  {
   "cell_type": "code",
   "execution_count": 9,
   "metadata": {},
   "outputs": [
    {
     "name": "stdout",
     "output_type": "stream",
     "text": [
      "Accuracy of the trained Naive Bayes model is: 84.36548223350255%\n"
     ]
    }
   ],
   "source": [
    "naive_bayes_classifier = MultinomialNB()\n",
    "naive_bayes_classifier.fit(trainx_tfidf,trainy)\n",
    "y_pred_nb = naive_bayes_classifier.predict(testx)\n",
    "score_nb = metrics.accuracy_score(testy, y_pred_nb)\n",
    "print(\"Accuracy of the trained Naive Bayes model is: \"+str(100*score_nb)+\"%\")\n"
   ]
  },
  {
   "cell_type": "code",
   "execution_count": 10,
   "metadata": {},
   "outputs": [
    {
     "name": "stdout",
     "output_type": "stream",
     "text": [
      "Accuracy of the trained Rocchio Classification model is: 80.30456852791879%\n"
     ]
    }
   ],
   "source": [
    "from sklearn.feature_extraction.text import TfidfVectorizer\n",
    "from sklearn.preprocessing import LabelEncoder\n",
    "from sklearn.metrics.pairwise import pairwise_distances\n",
    "metric=\"euclidean\"\n",
    "vectorizer=TfidfVectorizer()\n",
    "trainX = vectorizer.fit_transform(train_data.data) \n",
    "trainy = train_data.target\n",
    "vectorizer=TfidfVectorizer()\n",
    "trainX = vectorizer.fit_transform(train_data.data) \n",
    "trainy = train_data.target\n",
    "n_samples, n_features = trainX.shape\n",
    "le = LabelEncoder()\n",
    "y_indices = le.fit_transform(trainy)\n",
    "classes = le.classes_\n",
    "n_classes = classes.size\n",
    "centroids = np.empty((n_classes, n_features), dtype=np.float64)\n",
    "n_cluster = np.zeros(n_classes)\n",
    "for current_class in range(n_classes):\n",
    "    center_mask = y_indices == current_class\n",
    "    n_cluster[current_class] = np.sum(center_mask)\n",
    "    centroids[current_class] = trainX[center_mask].mean(axis=0)\n",
    "def get_vectorizer_array(query):\n",
    "    return vectorizer.transform([query]).toarray()\n",
    "def pred(X):\n",
    "    return classes[pairwise_distances(X, centroids, metric=metric).argmin(axis=1)]\n",
    "testdata = [[a_, b_] for a_, b_ in zip(test_data.data,test_data.target)]\n",
    "y_pred_rcc=[pred(get_vectorizer_array(testcase[0]))[0] for testcase in testdata]\n",
    "score_rcc = metrics.accuracy_score(testy, y_pred_rcc)\n",
    "\n",
    "print(\"Accuracy of the trained Rocchio Classification model is: \"+str(100*score_rcc)+\"%\")"
   ]
  },
  {
   "cell_type": "code",
   "execution_count": 60,
   "metadata": {},
   "outputs": [
    {
     "data": {
      "text/plain": [
       "array([1, 1, 3, ..., 0, 0, 1], dtype=int64)"
      ]
     },
     "execution_count": 60,
     "metadata": {},
     "output_type": "execute_result"
    }
   ],
   "source": [
    "np.array(y_pred_rcc)"
   ]
  },
  {
   "cell_type": "code",
   "execution_count": 25,
   "metadata": {},
   "outputs": [],
   "source": [
    "indices0=[]\n",
    "indices1=[]\n",
    "indices2=[]\n",
    "indices3=[]\n",
    "indices4=[]\n",
    "for i in range(list(test_data.target).__len__()):\n",
    "    if list(test_data.target)[i]==0:\n",
    "        indices0.append(i)\n",
    "    elif list(test_data.target)[i]==1:\n",
    "        indices1.append(i)\n",
    "    elif list(test_data.target)[i]==2:\n",
    "        indices2.append(i)\n",
    "    elif list(test_data.target)[i]==3:\n",
    "        indices3.append(i)\n",
    "    elif list(test_data.target)[i]==4:\n",
    "        indices4.append(i)"
   ]
  },
  {
   "cell_type": "code",
   "execution_count": 48,
   "metadata": {},
   "outputs": [],
   "source": [
    "import numpy as np\n",
    "import pandas as pd\n",
    "import matplotlib.pyplot as plt\n",
    "%matplotlib inline\n",
    "from statsmodels.graphics.mosaicplot import mosaic\n",
    "from matplotlib.patches import Patch\n",
    "import itertools\n",
    "from collections import deque\n",
    "def nclass_classification_mosaic_plot(n_classes, results):\n",
    "    class_lists = [range(n_classes)]*2\n",
    "    mosaic_tuples = tuple(itertools.product(*class_lists))\n",
    "    \n",
    "    res_list = results[0]\n",
    "    for i, l in enumerate(results):\n",
    "        if i == 0:\n",
    "            pass\n",
    "        else:\n",
    "            tmp = deque(l)\n",
    "            tmp.rotate(-i)\n",
    "            res_list.extend(tmp)\n",
    "    data = {t:res_list[i] for i,t in enumerate(mosaic_tuples)}\n",
    "\n",
    "    fig, ax = plt.subplots(figsize=(11, 10))\n",
    "    plt.rcParams.update({'font.size': 16})\n",
    "\n",
    "    font_color = '#2c3e50'\n",
    "    pallet = [\n",
    "        '#6a89cc', \n",
    "        '#4a69bd', \n",
    "        '#1e3799', \n",
    "        '#0c2461',\n",
    "        '#82ccdd',\n",
    "        '#60a3bc',\n",
    "    ]\n",
    "    colors = deque(pallet[:n_classes])\n",
    "    all_colors = []\n",
    "    for i in range(n_classes):\n",
    "        if i > 0:\n",
    "            colors.rotate(-1)\n",
    "        all_colors.extend(colors)\n",
    "\n",
    "    props = {(str(a), str(b)):{'color':all_colors[i]} for i,(a, b) in enumerate(mosaic_tuples)}\n",
    "\n",
    "    labelizer = lambda k: ''\n",
    "\n",
    "    p = mosaic(data, labelizer=labelizer, properties=props, ax=ax)\n",
    "\n",
    "    title_font_dict = {\n",
    "        'fontsize': 20,\n",
    "        'color' : font_color,\n",
    "    }\n",
    "    axis_label_font_dict = {\n",
    "        'fontsize': 16,\n",
    "        'color' : font_color,\n",
    "    }\n",
    "\n",
    "    ax.tick_params(axis = \"x\", which = \"both\", bottom = False, top = False)\n",
    "    ax.axes.yaxis.set_ticks([])\n",
    "    ax.tick_params(axis='x', which='major', labelsize=14)\n",
    "\n",
    "    ax.set_title('Classification Report', fontdict=title_font_dict, pad=25)\n",
    "    ax.set_xlabel('Observed Class', fontdict=axis_label_font_dict, labelpad=10)\n",
    "    ax.set_ylabel('Predicted Class', fontdict=axis_label_font_dict, labelpad=35)\n",
    "\n",
    "    legend_elements = [Patch(facecolor=all_colors[i], label='Class {}'.format(i)) for i in range(n_classes)]\n",
    "    ax.legend(handles=legend_elements, bbox_to_anchor=(1,1.018), fontsize=16)\n",
    "    plt.tight_layout()\n",
    "    plt.show()"
   ]
  },
  {
   "cell_type": "code",
   "execution_count": 61,
   "metadata": {},
   "outputs": [],
   "source": [
    "li_nb=[]\n",
    "temp0=0\n",
    "temp1=0\n",
    "temp2=0\n",
    "temp3=0\n",
    "temp4=0\n",
    "for j in indices0:\n",
    "    if list(np.array(y_pred_rcc))[j]==0:\n",
    "        temp0+=1\n",
    "    elif list(np.array(y_pred_rcc))[j]==1:\n",
    "        temp1+=1\n",
    "    elif list(np.array(y_pred_rcc))[j]==2:\n",
    "        temp2+=1\n",
    "    elif list(np.array(y_pred_rcc))[j]==3:\n",
    "        temp3+=1\n",
    "    elif list(np.array(y_pred_rcc))[j]==4:\n",
    "        temp4+=1\n",
    "li_nb.append([temp0,temp1,temp2,temp3,temp4])\n",
    "temp0=0\n",
    "temp1=0\n",
    "temp2=0\n",
    "temp3=0\n",
    "temp4=0\n",
    "for j in indices1:\n",
    "    if list(np.array(y_pred_rcc))[j]==0:\n",
    "        temp0+=1\n",
    "    elif list(np.array(y_pred_rcc))[j]==1:\n",
    "        temp1+=1\n",
    "    elif list(np.array(y_pred_rcc))[j]==2:\n",
    "        temp2+=1\n",
    "    elif list(np.array(y_pred_rcc))[j]==3:\n",
    "        temp3+=1\n",
    "    elif list(np.array(y_pred_rcc))[j]==4:\n",
    "        temp4+=1\n",
    "li_nb.append([temp0,temp1,temp2,temp3,temp4])\n",
    "temp0=0\n",
    "temp1=0\n",
    "temp2=0\n",
    "temp3=0\n",
    "temp4=0\n",
    "for j in indices2:\n",
    "    if list(np.array(y_pred_rcc))[j]==0:\n",
    "        temp0+=1\n",
    "    elif list(np.array(y_pred_rcc))[j]==1:\n",
    "        temp1+=1\n",
    "    elif list(np.array(y_pred_rcc))[j]==2:\n",
    "        temp2+=1\n",
    "    elif list(np.array(y_pred_rcc))[j]==3:\n",
    "        temp3+=1\n",
    "    elif list(np.array(y_pred_rcc))[j]==4:\n",
    "        temp4+=1\n",
    "li_nb.append([temp0,temp1,temp2,temp3,temp4])\n",
    "temp0=0\n",
    "temp1=0\n",
    "temp2=0\n",
    "temp3=0\n",
    "temp4=0\n",
    "for j in indices3:\n",
    "    if list(np.array(y_pred_rcc))[j]==0:\n",
    "        temp0+=1\n",
    "    elif list(np.array(y_pred_rcc))[j]==1:\n",
    "        temp1+=1\n",
    "    elif list(np.array(y_pred_rcc))[j]==2:\n",
    "        temp2+=1\n",
    "    elif list(np.array(y_pred_rcc))[j]==3:\n",
    "        temp3+=1\n",
    "    elif list(np.array(y_pred_rcc))[j]==4:\n",
    "        temp4+=1\n",
    "li_nb.append([temp0,temp1,temp2,temp3,temp4])\n",
    "temp0=0\n",
    "temp1=0\n",
    "temp2=0\n",
    "temp3=0\n",
    "temp4=0\n",
    "for j in indices4:\n",
    "    if list(np.array(y_pred_rcc))[j]==0:\n",
    "        temp0+=1\n",
    "    elif list(np.array(y_pred_rcc))[j]==1:\n",
    "        temp1+=1\n",
    "    elif list(np.array(y_pred_rcc))[j]==2:\n",
    "        temp2+=1\n",
    "    elif list(np.array(y_pred_rcc))[j]==3:\n",
    "        temp3+=1\n",
    "    elif list(np.array(y_pred_rcc))[j]==4:\n",
    "        temp4+=1\n",
    "li_nb.append([temp0,temp1,temp2,temp3,temp4])"
   ]
  },
  {
   "cell_type": "code",
   "execution_count": 62,
   "metadata": {},
   "outputs": [
    {
     "data": {
      "image/png": "[encoded data removed]",
      "text/plain": [
       "<Figure size 792x720 with 3 Axes>"
      ]
     },
     "metadata": {
      "needs_background": "light"
     },
     "output_type": "display_data"
    }
   ],
   "source": [
    "nclass_classification_mosaic_plot(5,li_nb)"
   ]
  },
  {
   "cell_type": "code",
   "execution_count": null,
   "metadata": {},
   "outputs": [],
   "source": []
  },
  {
   "cell_type": "code",
   "execution_count": 58,
   "metadata": {},
   "outputs": [],
   "source": [
    "from sklearn.metrics import classification_report\n",
    "target_names = categories"
   ]
  },
  {
   "cell_type": "code",
   "execution_count": 59,
   "metadata": {},
   "outputs": [
    {
     "name": "stdout",
     "output_type": "stream",
     "text": [
      "                 precision    recall  f1-score   support\n",
      "\n",
      "      sci.space       0.94      0.69      0.80       389\n",
      "rec.motorcycles       0.93      0.97      0.95       398\n",
      "  comp.graphics       0.93      0.67      0.78       393\n",
      "        sci.med       0.69      0.94      0.80       396\n",
      "sci.electronics       0.83      0.95      0.89       394\n",
      "\n",
      "       accuracy                           0.84      1970\n",
      "      macro avg       0.86      0.84      0.84      1970\n",
      "   weighted avg       0.86      0.84      0.84      1970\n",
      "\n"
     ]
    }
   ],
   "source": [
    "print(classification_report(testy, y_pred_nb, target_names=target_names))"
   ]
  },
  {
   "cell_type": "code",
   "execution_count": 60,
   "metadata": {},
   "outputs": [
    {
     "name": "stdout",
     "output_type": "stream",
     "text": [
      "                 precision    recall  f1-score   support\n",
      "\n",
      "      sci.space       0.80      0.80      0.80       389\n",
      "rec.motorcycles       0.80      0.94      0.87       398\n",
      "  comp.graphics       0.82      0.66      0.73       393\n",
      "        sci.med       0.85      0.79      0.82       396\n",
      "sci.electronics       0.81      0.89      0.85       394\n",
      "\n",
      "       accuracy                           0.82      1970\n",
      "      macro avg       0.82      0.82      0.81      1970\n",
      "   weighted avg       0.82      0.82      0.81      1970\n",
      "\n"
     ]
    }
   ],
   "source": [
    "print(classification_report(testy, y_pred_knn, target_names=target_names))"
   ]
  },
  {
   "cell_type": "code",
   "execution_count": 61,
   "metadata": {},
   "outputs": [
    {
     "name": "stdout",
     "output_type": "stream",
     "text": [
      "                 precision    recall  f1-score   support\n",
      "\n",
      "      sci.space       0.65      0.88      0.74       389\n",
      "rec.motorcycles       0.94      0.93      0.94       398\n",
      "  comp.graphics       0.73      0.77      0.75       393\n",
      "        sci.med       0.83      0.59      0.69       396\n",
      "sci.electronics       0.94      0.84      0.89       394\n",
      "\n",
      "       accuracy                           0.80      1970\n",
      "      macro avg       0.82      0.80      0.80      1970\n",
      "   weighted avg       0.82      0.80      0.80      1970\n",
      "\n"
     ]
    }
   ],
   "source": [
    "print(classification_report(testy, y_pred_rcc, target_names=target_names))"
   ]
  },
  {
   "cell_type": "code",
   "execution_count": null,
   "metadata": {},
   "outputs": [],
   "source": []
  }
 ],
 "metadata": {
  "kernelspec": {
   "display_name": "Python 3",
   "language": "python",
   "name": "python3"
  },
  "language_info": {
   "codemirror_mode": {
    "name": "ipython",
    "version": 3
   },
   "file_extension": ".py",
   "mimetype": "text/x-python",
   "name": "python",
   "nbconvert_exporter": "python",
   "pygments_lexer": "ipython3",
   "version": "3.8.5"
  }
 },
 "nbformat": 4,
 "nbformat_minor": 4
}
