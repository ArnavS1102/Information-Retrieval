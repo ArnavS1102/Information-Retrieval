{
 "cells": [
  {
   "cell_type": "code",
   "execution_count": 55,
   "metadata": {},
   "outputs": [],
   "source": [
    "import numpy as np\n",
    "from scipy import linalg\n",
    "import matplotlib.pyplot as plt\n",
    "from scipy.linalg import svd\n",
    "from nltk.stem import WordNetLemmatizer\n",
    "from sklearn.feature_extraction.text import TfidfTransformer\n",
    "from sklearn.feature_extraction.text import CountVectorizer\n",
    "lemmatizer = WordNetLemmatizer()\n",
    "from sklearn.feature_extraction.text import TfidfVectorizer"
   ]
  },
  {
   "cell_type": "code",
   "execution_count": 21,
   "metadata": {},
   "outputs": [],
   "source": [
    "from nltk.corpus import stopwords\n",
    "stop_li = stopwords.words(\"english\")"
   ]
  },
  {
   "cell_type": "code",
   "execution_count": 22,
   "metadata": {},
   "outputs": [],
   "source": [
    "import pandas as pd\n",
    "df=pd.read_csv(\"datafor6.csv\",usecols=[\"Documnet no\",\"Sentence\"])"
   ]
  },
  {
   "cell_type": "code",
   "execution_count": 23,
   "metadata": {},
   "outputs": [],
   "source": [
    "from sklearn.feature_extraction.text import CountVectorizer\n",
    "from nltk.tokenize import word_tokenize\n",
    "vectorizer = CountVectorizer()\n",
    "vectors = vectorizer.fit_transform(df[\"Sentence\"].values).todense() "
   ]
  },
  {
   "cell_type": "code",
   "execution_count": 24,
   "metadata": {},
   "outputs": [],
   "source": [
    "vectors.shape\n",
    "li1=[\"Document1\",\"Document2\",\"Document3\",\"Document4\",\"Document5\"]\n",
    "df_new=pd.DataFrame(columns=vectorizer.get_feature_names())\n",
    "df_new[\"Documnet_name\"]=li1\n",
    "df_new=df_new.set_index(\"Documnet_name\")\n",
    "c=0\n",
    "for i in li1:\n",
    "    df_new.loc[i]=vectors[c]\n",
    "    c+=1"
   ]
  },
  {
   "cell_type": "code",
   "execution_count": 29,
   "metadata": {},
   "outputs": [
    {
     "data": {
      "text/html": [
       "<div>\n",
       "<style scoped>\n",
       "    .dataframe tbody tr th:only-of-type {\n",
       "        vertical-align: middle;\n",
       "    }\n",
       "\n",
       "    .dataframe tbody tr th {\n",
       "        vertical-align: top;\n",
       "    }\n",
       "\n",
       "    .dataframe thead th {\n",
       "        text-align: right;\n",
       "    }\n",
       "</style>\n",
       "<table border=\"1\" class=\"dataframe\">\n",
       "  <thead>\n",
       "    <tr style=\"text-align: right;\">\n",
       "      <th></th>\n",
       "      <th>advantage</th>\n",
       "      <th>afghan</th>\n",
       "      <th>also</th>\n",
       "      <th>america</th>\n",
       "      <th>car</th>\n",
       "      <th>coming</th>\n",
       "      <th>company</th>\n",
       "      <th>controversy</th>\n",
       "      <th>economic</th>\n",
       "      <th>elevated</th>\n",
       "      <th>...</th>\n",
       "      <th>service</th>\n",
       "      <th>share</th>\n",
       "      <th>shelter</th>\n",
       "      <th>source</th>\n",
       "      <th>speaking</th>\n",
       "      <th>strong</th>\n",
       "      <th>tax</th>\n",
       "      <th>urged</th>\n",
       "      <th>want</th>\n",
       "      <th>website</th>\n",
       "    </tr>\n",
       "    <tr>\n",
       "      <th>Documnet_name</th>\n",
       "      <th></th>\n",
       "      <th></th>\n",
       "      <th></th>\n",
       "      <th></th>\n",
       "      <th></th>\n",
       "      <th></th>\n",
       "      <th></th>\n",
       "      <th></th>\n",
       "      <th></th>\n",
       "      <th></th>\n",
       "      <th></th>\n",
       "      <th></th>\n",
       "      <th></th>\n",
       "      <th></th>\n",
       "      <th></th>\n",
       "      <th></th>\n",
       "      <th></th>\n",
       "      <th></th>\n",
       "      <th></th>\n",
       "      <th></th>\n",
       "      <th></th>\n",
       "    </tr>\n",
       "  </thead>\n",
       "  <tbody>\n",
       "    <tr>\n",
       "      <th>Document1</th>\n",
       "      <td>0</td>\n",
       "      <td>1</td>\n",
       "      <td>0</td>\n",
       "      <td>1</td>\n",
       "      <td>0</td>\n",
       "      <td>0</td>\n",
       "      <td>0</td>\n",
       "      <td>0</td>\n",
       "      <td>0</td>\n",
       "      <td>0</td>\n",
       "      <td>...</td>\n",
       "      <td>0</td>\n",
       "      <td>1</td>\n",
       "      <td>1</td>\n",
       "      <td>1</td>\n",
       "      <td>0</td>\n",
       "      <td>0</td>\n",
       "      <td>0</td>\n",
       "      <td>0</td>\n",
       "      <td>1</td>\n",
       "      <td>0</td>\n",
       "    </tr>\n",
       "    <tr>\n",
       "      <th>Document2</th>\n",
       "      <td>0</td>\n",
       "      <td>0</td>\n",
       "      <td>0</td>\n",
       "      <td>0</td>\n",
       "      <td>0</td>\n",
       "      <td>1</td>\n",
       "      <td>0</td>\n",
       "      <td>0</td>\n",
       "      <td>0</td>\n",
       "      <td>0</td>\n",
       "      <td>...</td>\n",
       "      <td>0</td>\n",
       "      <td>0</td>\n",
       "      <td>0</td>\n",
       "      <td>0</td>\n",
       "      <td>1</td>\n",
       "      <td>0</td>\n",
       "      <td>0</td>\n",
       "      <td>1</td>\n",
       "      <td>0</td>\n",
       "      <td>0</td>\n",
       "    </tr>\n",
       "    <tr>\n",
       "      <th>Document3</th>\n",
       "      <td>0</td>\n",
       "      <td>0</td>\n",
       "      <td>0</td>\n",
       "      <td>0</td>\n",
       "      <td>0</td>\n",
       "      <td>0</td>\n",
       "      <td>0</td>\n",
       "      <td>1</td>\n",
       "      <td>0</td>\n",
       "      <td>0</td>\n",
       "      <td>...</td>\n",
       "      <td>0</td>\n",
       "      <td>0</td>\n",
       "      <td>0</td>\n",
       "      <td>0</td>\n",
       "      <td>0</td>\n",
       "      <td>0</td>\n",
       "      <td>1</td>\n",
       "      <td>0</td>\n",
       "      <td>0</td>\n",
       "      <td>1</td>\n",
       "    </tr>\n",
       "    <tr>\n",
       "      <th>Document4</th>\n",
       "      <td>1</td>\n",
       "      <td>0</td>\n",
       "      <td>1</td>\n",
       "      <td>0</td>\n",
       "      <td>1</td>\n",
       "      <td>0</td>\n",
       "      <td>1</td>\n",
       "      <td>0</td>\n",
       "      <td>0</td>\n",
       "      <td>0</td>\n",
       "      <td>...</td>\n",
       "      <td>1</td>\n",
       "      <td>0</td>\n",
       "      <td>0</td>\n",
       "      <td>0</td>\n",
       "      <td>0</td>\n",
       "      <td>0</td>\n",
       "      <td>0</td>\n",
       "      <td>0</td>\n",
       "      <td>0</td>\n",
       "      <td>0</td>\n",
       "    </tr>\n",
       "    <tr>\n",
       "      <th>Document5</th>\n",
       "      <td>0</td>\n",
       "      <td>0</td>\n",
       "      <td>0</td>\n",
       "      <td>0</td>\n",
       "      <td>0</td>\n",
       "      <td>1</td>\n",
       "      <td>0</td>\n",
       "      <td>0</td>\n",
       "      <td>1</td>\n",
       "      <td>1</td>\n",
       "      <td>...</td>\n",
       "      <td>0</td>\n",
       "      <td>0</td>\n",
       "      <td>0</td>\n",
       "      <td>0</td>\n",
       "      <td>0</td>\n",
       "      <td>1</td>\n",
       "      <td>0</td>\n",
       "      <td>0</td>\n",
       "      <td>0</td>\n",
       "      <td>0</td>\n",
       "    </tr>\n",
       "  </tbody>\n",
       "</table>\n",
       "<p>5 rows × 48 columns</p>\n",
       "</div>"
      ],
      "text/plain": [
       "              advantage afghan also america car coming company controversy  \\\n",
       "Documnet_name                                                                \n",
       "Document1             0      1    0       1   0      0       0           0   \n",
       "Document2             0      0    0       0   0      1       0           0   \n",
       "Document3             0      0    0       0   0      0       0           1   \n",
       "Document4             1      0    1       0   1      0       1           0   \n",
       "Document5             0      0    0       0   0      1       0           0   \n",
       "\n",
       "              economic elevated  ... service share shelter source speaking  \\\n",
       "Documnet_name                    ...                                         \n",
       "Document1            0        0  ...       0     1       1      1        0   \n",
       "Document2            0        0  ...       0     0       0      0        1   \n",
       "Document3            0        0  ...       0     0       0      0        0   \n",
       "Document4            0        0  ...       1     0       0      0        0   \n",
       "Document5            1        1  ...       0     0       0      0        0   \n",
       "\n",
       "              strong tax urged want website  \n",
       "Documnet_name                                \n",
       "Document1          0   0     0    1       0  \n",
       "Document2          0   0     1    0       0  \n",
       "Document3          0   1     0    0       1  \n",
       "Document4          0   0     0    0       0  \n",
       "Document5          1   0     0    0       0  \n",
       "\n",
       "[5 rows x 48 columns]"
      ]
     },
     "execution_count": 29,
     "metadata": {},
     "output_type": "execute_result"
    }
   ],
   "source": [
    "df_new"
   ]
  },
  {
   "cell_type": "code",
   "execution_count": 5,
   "metadata": {},
   "outputs": [],
   "source": [
    "li_vocab=vectorizer.get_feature_names()"
   ]
  },
  {
   "cell_type": "code",
   "execution_count": 6,
   "metadata": {},
   "outputs": [],
   "source": [
    "tfidf_transformer = TfidfTransformer()\n",
    "datfidf = tfidf_transformer.fit_transform(vectors)"
   ]
  },
  {
   "cell_type": "code",
   "execution_count": 35,
   "metadata": {},
   "outputs": [],
   "source": [
    "temp=datfidf.toarray()"
   ]
  },
  {
   "cell_type": "code",
   "execution_count": 7,
   "metadata": {},
   "outputs": [],
   "source": [
    "from scipy.linalg import svd\n",
    "s = svd(datfidf.todense(),full_matrices=False)"
   ]
  },
  {
   "cell_type": "code",
   "execution_count": 8,
   "metadata": {},
   "outputs": [],
   "source": [
    "u=s[0]\n",
    "m=np.diag(s[1])\n",
    "v=s[2]"
   ]
  },
  {
   "cell_type": "code",
   "execution_count": 9,
   "metadata": {},
   "outputs": [
    {
     "data": {
      "text/plain": [
       "(5, 5)"
      ]
     },
     "execution_count": 9,
     "metadata": {},
     "output_type": "execute_result"
    }
   ],
   "source": [
    "u.shape"
   ]
  },
  {
   "cell_type": "code",
   "execution_count": 10,
   "metadata": {},
   "outputs": [
    {
     "data": {
      "text/plain": [
       "(5, 5)"
      ]
     },
     "execution_count": 10,
     "metadata": {},
     "output_type": "execute_result"
    }
   ],
   "source": [
    "m.shape"
   ]
  },
  {
   "cell_type": "code",
   "execution_count": 11,
   "metadata": {},
   "outputs": [
    {
     "data": {
      "text/plain": [
       "(5, 48)"
      ]
     },
     "execution_count": 11,
     "metadata": {},
     "output_type": "execute_result"
    }
   ],
   "source": [
    "v.shape"
   ]
  },
  {
   "cell_type": "code",
   "execution_count": 12,
   "metadata": {},
   "outputs": [],
   "source": [
    "lo=s[2]"
   ]
  },
  {
   "cell_type": "code",
   "execution_count": 44,
   "metadata": {},
   "outputs": [],
   "source": [
    "def search(x):\n",
    "    print(\"The documents are: \")\n",
    "    for i in range(5):\n",
    "        print(df.loc[i,\"Documnet no\"] + \"  \"+df.loc[i,\"Sentence\"])\n",
    "    li_test=[]\n",
    "    #for i in x.split(\" \"):\n",
    "        #li_test.append([y for y in lemmatizer.lemmatize(i.lower()).split(\" \") if y not in stop_li])\n",
    "    x=lemmatizer.lemmatize(x.lower())\n",
    "    word_vector=vectors[:,li_vocab.index(x)]\n",
    "    indices=[]\n",
    "    final=np.dot(m,word_vector)\n",
    "    final=list(final)\n",
    "    finaln=[]\n",
    "    for i in range(final.__len__()):\n",
    "        finaln.append([final[i],\"Document no {x}\".format(x=i+1)])\n",
    "    finaln=sorted(finaln,key=lambda x:x[0],reverse=True)\n",
    "    print(\"The most relevant retrieved for the query '{a}' is: Document {x}\".format(a=x,x=finaln[0][1]))\n",
    "    print(\" \")\n",
    "    print(\" \")\n",
    "    print(list(finaln))"
   ]
  },
  {
   "cell_type": "code",
   "execution_count": 46,
   "metadata": {},
   "outputs": [
    {
     "name": "stdout",
     "output_type": "stream",
     "text": [
      "The documents are: \n",
      "Document1  source said america want india share maximum possible ground intelligence give shelter afghan\n",
      "Document2  speaking coming festive season maharashtra mayor urged people remain home\n",
      "Document3  infosys controversy related government new income tax filing website\n",
      "Document4  new car company lack advantage also lack sale service infrastructure\n",
      "Document5  india economic growth remain strong coming quarter inflation likely remain elevated level\n",
      "The most relevant retrieved for the query 'infosys' is: Document Document no 3\n",
      " \n",
      " \n",
      "[[matrix([[1.]]), 'Document no 3'], [matrix([[0.]]), 'Document no 1'], [matrix([[0.]]), 'Document no 2'], [matrix([[0.]]), 'Document no 4'], [matrix([[0.]]), 'Document no 5']]\n"
     ]
    }
   ],
   "source": [
    "search(\"infosys\")"
   ]
  },
  {
   "cell_type": "code",
   "execution_count": 6,
   "metadata": {},
   "outputs": [
    {
     "data": {
      "text/plain": [
       "array(['source said america want india share maximum possible ground intelligence give shelter afghan',\n",
       "       'speaking coming festive season maharashtra mayor urged people remain home',\n",
       "       'infosys controversy related government new income tax filing website',\n",
       "       'new car company lack advantage also lack sale service infrastructure',\n",
       "       'india economic growth remain strong coming quarter inflation likely remain elevated level'],\n",
       "      dtype=object)"
      ]
     },
     "execution_count": 6,
     "metadata": {},
     "output_type": "execute_result"
    }
   ],
   "source": [
    "df[\"Sentence\"].values"
   ]
  },
  {
   "cell_type": "code",
   "execution_count": 47,
   "metadata": {},
   "outputs": [],
   "source": [
    "import pandas as pd\n",
    "df=pd.read_csv(\"train_classify.csv\",usecols=[\"tweet\",\"topic\"])"
   ]
  },
  {
   "cell_type": "code",
   "execution_count": 48,
   "metadata": {},
   "outputs": [],
   "source": [
    "df=df[:1000]\n",
    "df=df.sample(frac=1)"
   ]
  },
  {
   "cell_type": "code",
   "execution_count": 49,
   "metadata": {},
   "outputs": [],
   "source": [
    "\n",
    "df1=pd.DataFrame({\"tweet\":[],\"topic\":[]})\n",
    "for i in range(1000):\n",
    "    c=0\n",
    "    if df.loc[i,\"topic\"]==0 and c<=100:\n",
    "        df1=df1.append(df.loc[i])\n",
    "        c+=1\n",
    "for i in range(1000):\n",
    "    c=0\n",
    "    if df.loc[i,\"topic\"]==1 and c<=100:\n",
    "        df1=df1.append(df.loc[i])\n",
    "        c+=1\n",
    "for i in range(1000):\n",
    "    c=0\n",
    "    if df.loc[i,\"topic\"]==2 and c<=100:\n",
    "        df1=df1.append(df.loc[i])\n",
    "        c+=1"
   ]
  },
  {
   "cell_type": "code",
   "execution_count": 56,
   "metadata": {},
   "outputs": [],
   "source": [
    "vectorizer=TfidfVectorizer()\n",
    "trainX1 = vectorizer.fit_transform(df1.tweet) "
   ]
  },
  {
   "cell_type": "code",
   "execution_count": 57,
   "metadata": {},
   "outputs": [],
   "source": [
    "from sklearn.decomposition import TruncatedSVD\n",
    "s = TruncatedSVD(n_components=2,n_iter=7,random_state=42)\n",
    "mats=s.fit_transform(trainX1.toarray())"
   ]
  },
  {
   "cell_type": "code",
   "execution_count": 58,
   "metadata": {},
   "outputs": [],
   "source": [
    "x_cord=mats[:,0]\n",
    "y_cord=mats[:,1]"
   ]
  },
  {
   "cell_type": "code",
   "execution_count": 59,
   "metadata": {},
   "outputs": [
    {
     "data": {
      "text/plain": [
       "<AxesSubplot:xlabel='X_CORD', ylabel='Y_CORD'>"
      ]
     },
     "execution_count": 59,
     "metadata": {},
     "output_type": "execute_result"
    },
    {
     "data": {
      "image/png": "[encoded data removed]",
      "text/plain": [
       "<Figure size 432x288 with 1 Axes>"
      ]
     },
     "metadata": {
      "needs_background": "light"
     },
     "output_type": "display_data"
    }
   ],
   "source": [
    "import seaborn as sns\n",
    "import pandas as pd\n",
    "df=pd.DataFrame({\"X_CORD\":[],\"Y_CORD\":[]})\n",
    "df[\"X_CORD\"]=x_cord\n",
    "df[\"Y_CORD\"]=y_cord\n",
    "df[\"LABEL\"]=df1[\"topic\"]\n",
    "for i in range(df.shape[0]):\n",
    "    if(df.loc[i,\"LABEL\"]==0):\n",
    "        df.loc[i,\"LABEL\"]=\"sports\"\n",
    "    elif(df.loc[i,\"LABEL\"]==1):\n",
    "        df.loc[i,\"LABEL\"]=\"entertainemnt\"\n",
    "    if(df.loc[i,\"LABEL\"]==2):\n",
    "        df.loc[i,\"LABEL\"]=\"financial\"\n",
    "sns.scatterplot(data=df, x=\"X_CORD\", y=\"Y_CORD\",hue=\"LABEL\")"
   ]
  },
  {
   "cell_type": "code",
   "execution_count": null,
   "metadata": {},
   "outputs": [],
   "source": []
  }
 ],
 "metadata": {
  "kernelspec": {
   "display_name": "Python 3",
   "language": "python",
   "name": "python3"
  },
  "language_info": {
   "codemirror_mode": {
    "name": "ipython",
    "version": 3
   },
   "file_extension": ".py",
   "mimetype": "text/x-python",
   "name": "python",
   "nbconvert_exporter": "python",
   "pygments_lexer": "ipython3",
   "version": "3.8.5"
  }
 },
 "nbformat": 4,
 "nbformat_minor": 4
}
