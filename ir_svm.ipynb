{
 "cells": [
  {
   "cell_type": "markdown",
   "metadata": {},
   "source": [
    "##### Lab 8 Part 1 "
   ]
  },
  {
   "cell_type": "markdown",
   "metadata": {},
   "source": [
    "##### Experimenting with svm kernels on IRIS dataset"
   ]
  },
  {
   "cell_type": "code",
   "execution_count": 1,
   "metadata": {},
   "outputs": [],
   "source": [
    "import pandas as pd\n",
    "from sklearn import preprocessing \n",
    "import seaborn as sns\n",
    "import matplotlib.pyplot as plt\n",
    "from sklearn.svm import SVC\n",
    "import numpy as np\n",
    "from sklearn.metrics import accuracy_score"
   ]
  },
  {
   "cell_type": "markdown",
   "metadata": {},
   "source": [
    "##### Function for a convenient svm plot"
   ]
  },
  {
   "cell_type": "code",
   "execution_count": 2,
   "metadata": {},
   "outputs": [],
   "source": [
    "def make_meshgrid(x, y, h=.02):\n",
    "    x_min, x_max = x.min() - 1, x.max() + 1\n",
    "    y_min, y_max = y.min() - 1, y.max() + 1\n",
    "    xx, yy = np.meshgrid(np.arange(x_min, x_max, h), np.arange(y_min, y_max, h))\n",
    "    return xx, yy\n",
    "\n",
    "def plot_contours(ax, clf, xx, yy, **params):\n",
    "    Z = clf.predict(np.c_[xx.ravel(), yy.ravel()])\n",
    "    Z = Z.reshape(xx.shape)\n",
    "    out = ax.contourf(xx, yy, Z, **params)\n",
    "    return out"
   ]
  },
  {
   "cell_type": "code",
   "execution_count": 3,
   "metadata": {},
   "outputs": [],
   "source": [
    "df=pd.read_csv(\"IRIS (2).csv\")"
   ]
  },
  {
   "cell_type": "code",
   "execution_count": 4,
   "metadata": {},
   "outputs": [
    {
     "data": {
      "text/html": [
       "<div>\n",
       "<style scoped>\n",
       "    .dataframe tbody tr th:only-of-type {\n",
       "        vertical-align: middle;\n",
       "    }\n",
       "\n",
       "    .dataframe tbody tr th {\n",
       "        vertical-align: top;\n",
       "    }\n",
       "\n",
       "    .dataframe thead th {\n",
       "        text-align: right;\n",
       "    }\n",
       "</style>\n",
       "<table border=\"1\" class=\"dataframe\">\n",
       "  <thead>\n",
       "    <tr style=\"text-align: right;\">\n",
       "      <th></th>\n",
       "      <th>sepal_length</th>\n",
       "      <th>sepal_width</th>\n",
       "      <th>petal_length</th>\n",
       "      <th>petal_width</th>\n",
       "      <th>species</th>\n",
       "    </tr>\n",
       "  </thead>\n",
       "  <tbody>\n",
       "    <tr>\n",
       "      <th>0</th>\n",
       "      <td>5.1</td>\n",
       "      <td>3.5</td>\n",
       "      <td>1.4</td>\n",
       "      <td>0.2</td>\n",
       "      <td>Iris-setosa</td>\n",
       "    </tr>\n",
       "    <tr>\n",
       "      <th>1</th>\n",
       "      <td>4.9</td>\n",
       "      <td>3.0</td>\n",
       "      <td>1.4</td>\n",
       "      <td>0.2</td>\n",
       "      <td>Iris-setosa</td>\n",
       "    </tr>\n",
       "    <tr>\n",
       "      <th>2</th>\n",
       "      <td>4.7</td>\n",
       "      <td>3.2</td>\n",
       "      <td>1.3</td>\n",
       "      <td>0.2</td>\n",
       "      <td>Iris-setosa</td>\n",
       "    </tr>\n",
       "    <tr>\n",
       "      <th>3</th>\n",
       "      <td>4.6</td>\n",
       "      <td>3.1</td>\n",
       "      <td>1.5</td>\n",
       "      <td>0.2</td>\n",
       "      <td>Iris-setosa</td>\n",
       "    </tr>\n",
       "    <tr>\n",
       "      <th>4</th>\n",
       "      <td>5.0</td>\n",
       "      <td>3.6</td>\n",
       "      <td>1.4</td>\n",
       "      <td>0.2</td>\n",
       "      <td>Iris-setosa</td>\n",
       "    </tr>\n",
       "    <tr>\n",
       "      <th>...</th>\n",
       "      <td>...</td>\n",
       "      <td>...</td>\n",
       "      <td>...</td>\n",
       "      <td>...</td>\n",
       "      <td>...</td>\n",
       "    </tr>\n",
       "    <tr>\n",
       "      <th>145</th>\n",
       "      <td>6.7</td>\n",
       "      <td>3.0</td>\n",
       "      <td>5.2</td>\n",
       "      <td>2.3</td>\n",
       "      <td>Iris-virginica</td>\n",
       "    </tr>\n",
       "    <tr>\n",
       "      <th>146</th>\n",
       "      <td>6.3</td>\n",
       "      <td>2.5</td>\n",
       "      <td>5.0</td>\n",
       "      <td>1.9</td>\n",
       "      <td>Iris-virginica</td>\n",
       "    </tr>\n",
       "    <tr>\n",
       "      <th>147</th>\n",
       "      <td>6.5</td>\n",
       "      <td>3.0</td>\n",
       "      <td>5.2</td>\n",
       "      <td>2.0</td>\n",
       "      <td>Iris-virginica</td>\n",
       "    </tr>\n",
       "    <tr>\n",
       "      <th>148</th>\n",
       "      <td>6.2</td>\n",
       "      <td>3.4</td>\n",
       "      <td>5.4</td>\n",
       "      <td>2.3</td>\n",
       "      <td>Iris-virginica</td>\n",
       "    </tr>\n",
       "    <tr>\n",
       "      <th>149</th>\n",
       "      <td>5.9</td>\n",
       "      <td>3.0</td>\n",
       "      <td>5.1</td>\n",
       "      <td>1.8</td>\n",
       "      <td>Iris-virginica</td>\n",
       "    </tr>\n",
       "  </tbody>\n",
       "</table>\n",
       "<p>150 rows × 5 columns</p>\n",
       "</div>"
      ],
      "text/plain": [
       "     sepal_length  sepal_width  petal_length  petal_width         species\n",
       "0             5.1          3.5           1.4          0.2     Iris-setosa\n",
       "1             4.9          3.0           1.4          0.2     Iris-setosa\n",
       "2             4.7          3.2           1.3          0.2     Iris-setosa\n",
       "3             4.6          3.1           1.5          0.2     Iris-setosa\n",
       "4             5.0          3.6           1.4          0.2     Iris-setosa\n",
       "..            ...          ...           ...          ...             ...\n",
       "145           6.7          3.0           5.2          2.3  Iris-virginica\n",
       "146           6.3          2.5           5.0          1.9  Iris-virginica\n",
       "147           6.5          3.0           5.2          2.0  Iris-virginica\n",
       "148           6.2          3.4           5.4          2.3  Iris-virginica\n",
       "149           5.9          3.0           5.1          1.8  Iris-virginica\n",
       "\n",
       "[150 rows x 5 columns]"
      ]
     },
     "execution_count": 4,
     "metadata": {},
     "output_type": "execute_result"
    }
   ],
   "source": [
    "df"
   ]
  },
  {
   "cell_type": "markdown",
   "metadata": {},
   "source": [
    "##### After experimenting with this dataset, we decided to proceed with sepal_width and petal_length columns which were more non linearly distributed"
   ]
  },
  {
   "cell_type": "code",
   "execution_count": 5,
   "metadata": {},
   "outputs": [],
   "source": [
    "df.drop(\"sepal_length\",axis=1,inplace=True)\n",
    "df.drop(\"petal_width\",axis=1,inplace=True)"
   ]
  },
  {
   "cell_type": "markdown",
   "metadata": {},
   "source": [
    "##### Observing the distribution of different species with repect to the chosen columns"
   ]
  },
  {
   "cell_type": "code",
   "execution_count": 6,
   "metadata": {},
   "outputs": [
    {
     "data": {
      "text/plain": [
       "<seaborn.axisgrid.FacetGrid at 0x218d6a9e1f0>"
      ]
     },
     "execution_count": 6,
     "metadata": {},
     "output_type": "execute_result"
    },
    {
     "data": {
      "image/png": "[encoded data removed]",
      "text/plain": [
       "<Figure size 463.25x360 with 1 Axes>"
      ]
     },
     "metadata": {
      "needs_background": "light"
     },
     "output_type": "display_data"
    }
   ],
   "source": [
    "sns.catplot(x=\"petal_length\", y=\"sepal_width\",hue=\"species\", data=df)"
   ]
  },
  {
   "cell_type": "markdown",
   "metadata": {},
   "source": [
    "#####  Re-labelling the species column for convenience"
   ]
  },
  {
   "cell_type": "code",
   "execution_count": 7,
   "metadata": {},
   "outputs": [],
   "source": [
    "for i in range(df.shape[0]):\n",
    "    if df.loc[i,\"species\"]==\"Iris-virginica\":\n",
    "        df.loc[i,\"species\"]=-1\n",
    "    elif df.loc[i,\"species\"]==\"Iris-versicolor\":\n",
    "        df.loc[i,\"species\"]=1\n",
    "    else:\n",
    "        df.loc[i,\"species\"]=2"
   ]
  },
  {
   "cell_type": "markdown",
   "metadata": {},
   "source": [
    "##### Omitting the \"Iris-setosa\" because it is distinctly distributed from the other species which will result in a pretty easy svm classification"
   ]
  },
  {
   "cell_type": "code",
   "execution_count": 8,
   "metadata": {},
   "outputs": [
    {
     "data": {
      "text/plain": [
       "<seaborn.axisgrid.FacetGrid at 0x218d6f86c10>"
      ]
     },
     "execution_count": 8,
     "metadata": {},
     "output_type": "execute_result"
    },
    {
     "data": {
      "image/png": "[encoded data removed]",
      "text/plain": [
       "<Figure size 406x360 with 1 Axes>"
      ]
     },
     "metadata": {
      "needs_background": "light"
     },
     "output_type": "display_data"
    }
   ],
   "source": [
    "df_new=df[df[\"species\"]!=2]\n",
    "g=sns.catplot(x=\"petal_length\", y=\"sepal_width\",hue=\"species\", data=df_new)\n",
    "g.set(xticklabels=[])\n",
    "g.set(xlabel=None)"
   ]
  },
  {
   "cell_type": "markdown",
   "metadata": {},
   "source": [
    "##### Training a svm model with linear kernel"
   ]
  },
  {
   "cell_type": "code",
   "execution_count": 19,
   "metadata": {},
   "outputs": [
    {
     "data": {
      "image/png": "[encoded data removed]",
      "text/plain": [
       "<Figure size 432x288 with 1 Axes>"
      ]
     },
     "metadata": {
      "needs_background": "light"
     },
     "output_type": "display_data"
    },
    {
     "name": "stdout",
     "output_type": "stream",
     "text": [
      "Accuracy for linear kernel is 93.0\n"
     ]
    }
   ],
   "source": [
    "svm = SVC(kernel='linear', C=1, random_state=0)\n",
    "X=df_new.loc[:, [\"petal_length\",\"sepal_width\"]].values\n",
    "y=np.array(list(df_new[\"species\"].values))\n",
    "svm.fit(X,y)\n",
    "fig, ax = plt.subplots()\n",
    "X0, X1 = X[:, 0], X[:, 1]\n",
    "xx, yy = make_meshgrid(X0, X1)\n",
    "plot_contours(ax, svm, xx, yy, cmap=plt.cm.coolwarm, alpha=0.8)\n",
    "ax.scatter(X0, X1, c=y, cmap=plt.cm.coolwarm, s=20, edgecolors='k')\n",
    "plt.show()\n",
    "result=svm.predict(X)\n",
    "print('Accuracy for linear kernel is {}'.format(100*sum(1 for i,j in zip(result,y) if i == j) / float(len(result))))"
   ]
  },
  {
   "cell_type": "markdown",
   "metadata": {},
   "source": [
    "##### Training a SVM model with polynomial kernel"
   ]
  },
  {
   "cell_type": "code",
   "execution_count": 23,
   "metadata": {},
   "outputs": [
    {
     "data": {
      "image/png": "[encoded data removed]",
      "text/plain": [
       "<Figure size 432x288 with 1 Axes>"
      ]
     },
     "metadata": {
      "needs_background": "light"
     },
     "output_type": "display_data"
    },
    {
     "name": "stdout",
     "output_type": "stream",
     "text": [
      "Accuracy for polynomial kernel is 93.0\n"
     ]
    }
   ],
   "source": [
    "svm = SVC(kernel='poly', C=1, random_state=0)\n",
    "X=df_new.loc[:, [\"petal_length\",\"sepal_width\"]].values\n",
    "y=np.array(list(df_new[\"species\"].values))\n",
    "svm.fit(X,y)\n",
    "fig, ax = plt.subplots()\n",
    "X0, X1 = X[:, 0], X[:, 1]\n",
    "xx, yy = make_meshgrid(X0, X1)\n",
    "plot_contours(ax, svm, xx, yy, cmap=plt.cm.coolwarm, alpha=0.8)\n",
    "ax.scatter(X0, X1, c=y, cmap=plt.cm.coolwarm, s=20, edgecolors='k')\n",
    "plt.show()\n",
    "result=svm.predict(X)\n",
    "print('Accuracy for polynomial kernel is {}'.format(100*sum(1 for i,j in zip(result,y) if i == j) / float(len(result))))"
   ]
  },
  {
   "cell_type": "markdown",
   "metadata": {},
   "source": [
    "##### Training a SVM model with \"Gaussian RBF(Radial Basis Function)\" kernel"
   ]
  },
  {
   "cell_type": "code",
   "execution_count": 24,
   "metadata": {},
   "outputs": [
    {
     "data": {
      "image/png": "[encoded data removed]",
      "text/plain": [
       "<Figure size 432x288 with 1 Axes>"
      ]
     },
     "metadata": {
      "needs_background": "light"
     },
     "output_type": "display_data"
    },
    {
     "name": "stdout",
     "output_type": "stream",
     "text": [
      "Accuracy for Gaussian kernel is 93.0\n"
     ]
    }
   ],
   "source": [
    "svm = SVC(kernel='rbf', gamma=1, random_state=0)\n",
    "X=df_new.loc[:, [\"petal_length\",\"sepal_width\"]].values\n",
    "y=np.array(list(df_new[\"species\"].values))\n",
    "svm.fit(X,y)\n",
    "fig, ax = plt.subplots()\n",
    "X0, X1 = X[:, 0], X[:, 1]\n",
    "xx, yy = make_meshgrid(X0, X1)\n",
    "plot_contours(ax, svm, xx, yy, cmap=plt.cm.coolwarm, alpha=0.8)\n",
    "ax.scatter(X0, X1, c=y, cmap=plt.cm.coolwarm, s=20, edgecolors='k')\n",
    "plt.show()\n",
    "result=svm.predict(X)\n",
    "print('Accuracy for Gaussian kernel is {}'.format(100*sum(1 for i,j in zip(result,y) if i == j) / float(len(result))))"
   ]
  },
  {
   "cell_type": "markdown",
   "metadata": {},
   "source": [
    "##### LAB 8 Part2"
   ]
  },
  {
   "cell_type": "markdown",
   "metadata": {},
   "source": [
    "##### Comparison of svm with KNN,NB and Rocchio using 20newsgroups dataset"
   ]
  },
  {
   "cell_type": "markdown",
   "metadata": {},
   "source": [
    "##### "
   ]
  },
  {
   "cell_type": "markdown",
   "metadata": {},
   "source": [
    "##### Fetching data"
   ]
  },
  {
   "cell_type": "code",
   "execution_count": 26,
   "metadata": {},
   "outputs": [],
   "source": [
    "from sklearn.datasets import fetch_20newsgroups\n",
    "categories = ['alt.atheism',\n",
    " 'comp.graphics',\n",
    " 'comp.os.ms-windows.misc',\n",
    " 'comp.sys.ibm.pc.hardware',\n",
    " 'comp.sys.mac.hardware',\n",
    " 'comp.windows.x',\n",
    " 'misc.forsale',\n",
    " 'rec.autos',\n",
    " 'rec.motorcycles',\n",
    " 'rec.sport.baseball',\n",
    " 'rec.sport.hockey',\n",
    " 'sci.crypt',\n",
    " 'sci.electronics',\n",
    " 'sci.med',\n",
    " 'sci.space',\n",
    " 'soc.religion.christian',\n",
    " 'talk.politics.guns',\n",
    " 'talk.politics.mideast',\n",
    " 'talk.politics.misc',\n",
    " 'talk.religion.misc']\n",
    "train_data = fetch_20newsgroups(subset='train',categories=categories, shuffle=True, random_state=42)\n",
    "test_data = fetch_20newsgroups(subset='test',categories=categories, shuffle=True, random_state=42)"
   ]
  },
  {
   "cell_type": "code",
   "execution_count": 3,
   "metadata": {},
   "outputs": [
    {
     "data": {
      "text/plain": [
       "\"From: lerxst@wam.umd.edu (where's my thing)\\nSubject: WHAT car is this!?\\nNntp-Posting-Host: rac3.wam.umd.edu\\nOrganization: University of Maryland, College Park\\nLines: 15\\n\\n I was wondering if anyone out there could enlighten me on this car I saw\\nthe other day. It was a 2-door sports car, looked to be from the late 60s/\\nearly 70s. It was called a Bricklin. The doors were really small. In addition,\\nthe front bumper was separate from the rest of the body. This is \\nall I know. If anyone can tellme a model name, engine specs, years\\nof production, where this car is made, history, or whatever info you\\nhave on this funky looking car, please e-mail.\\n\\nThanks,\\n- IL\\n   ---- brought to you by your neighborhood Lerxst ----\\n\\n\\n\\n\\n\""
      ]
     },
     "execution_count": 3,
     "metadata": {},
     "output_type": "execute_result"
    }
   ],
   "source": [
    "train_data.data[0]"
   ]
  },
  {
   "cell_type": "code",
   "execution_count": 27,
   "metadata": {},
   "outputs": [],
   "source": [
    "from nltk.stem import WordNetLemmatizer\n",
    "wl = WordNetLemmatizer()\n",
    "x_train = train_data.data\n",
    "x_test = test_data.data\n",
    "for i in range(len(x_train)):\n",
    "    li=x_train[i].split(\" \")\n",
    "    for j in range(len(li)):\n",
    "        li[j]=wl.lemmatize(li[j].lower())\n",
    "    strx=\" \".join(li)\n",
    "    x_train[i]=strx\n",
    "for i in range(len(x_test)):\n",
    "    li=x_test[i].split(\" \")\n",
    "    for j in range(len(li)):\n",
    "        li[j]=wl.lemmatize(li[j].lower())\n",
    "    strx=\" \".join(li)\n",
    "    x_test[i]=strx"
   ]
  },
  {
   "cell_type": "code",
   "execution_count": 5,
   "metadata": {},
   "outputs": [
    {
     "data": {
      "text/plain": [
       "\"from: lerxst@wam.umd.edu (where's my thing)\\nsubject: what car is this!?\\nnntp-posting-host: rac3.wam.umd.edu\\norganization: university of maryland, college park\\nlines: 15\\n\\n i wa wondering if anyone out there could enlighten me on this car i saw\\nthe other day. it wa a 2-door sport car, looked to be from the late 60s/\\nearly 70s. it wa called a bricklin. the door were really small. in addition,\\nthe front bumper wa separate from the rest of the body. this is \\nall i know. if anyone can tellme a model name, engine specs, years\\nof production, where this car is made, history, or whatever info you\\nhave on this funky looking car, please e-mail.\\n\\nthanks,\\n- il\\n   ---- brought to you by your neighborhood lerxst ----\\n\\n\\n\\n\\n\""
      ]
     },
     "execution_count": 5,
     "metadata": {},
     "output_type": "execute_result"
    }
   ],
   "source": [
    "x_train[0]"
   ]
  },
  {
   "cell_type": "markdown",
   "metadata": {},
   "source": [
    "##### Cleaning data(removing stop words and other unnecessary expressions)"
   ]
  },
  {
   "cell_type": "markdown",
   "metadata": {},
   "source": [
    "##### "
   ]
  },
  {
   "cell_type": "markdown",
   "metadata": {},
   "source": [
    "##### For training data"
   ]
  },
  {
   "cell_type": "code",
   "execution_count": 28,
   "metadata": {},
   "outputs": [],
   "source": [
    "from nltk.corpus import stopwords\n",
    "from nltk.tokenize import word_tokenize\n",
    "import re\n",
    "from nltk.stem import WordNetLemmatizer\n",
    "lemmatizer = WordNetLemmatizer()\n",
    "stop_li=stopwords.words('english')\n",
    "for i in range(len(x_train)):   \n",
    "    x=re.sub('#\\S+',' ',x_train[i])\n",
    "    x=re.sub('@\\S+',' ',x)\n",
    "    x=re.sub('\\S+@\\S+',' ',x)\n",
    "    x=re.sub('https\\S+',' ',x)\n",
    "    x=re.sub('[^A-Za-z]',' ',x)\n",
    "    x=re.sub('\\d+',' ',x)\n",
    "    li=[]\n",
    "    for l in x.lower().split():\n",
    "        if l.isalpha()==True:\n",
    "            li.append(l)\n",
    "    str2=\"\"\n",
    "    for l in li:\n",
    "        if l not in stop_li:\n",
    "                str2+=l+\" \"\n",
    "    str_temp = word_tokenize(str2.lower())\n",
    "    str3=\"\"\n",
    "    for k in str_temp:\n",
    "        if(len(k)>2):\n",
    "            str3+=k+\" \"\n",
    "    x_train[i]=str3.strip()"
   ]
  },
  {
   "cell_type": "code",
   "execution_count": 12,
   "metadata": {},
   "outputs": [
    {
     "data": {
      "text/plain": [
       "'lerxst thing subject car nntp posting host rac wam umd edu organization university maryland college park line wondering anyone could enlighten car saw day door sport car looked late early called bricklin door really small addition front bumper separate rest body know anyone tellme model name engine spec year production car made history whatever info funky looking car please mail thanks brought neighborhood lerxst'"
      ]
     },
     "execution_count": 12,
     "metadata": {},
     "output_type": "execute_result"
    }
   ],
   "source": [
    "x_train[0]"
   ]
  },
  {
   "cell_type": "markdown",
   "metadata": {},
   "source": [
    "##### For testing data"
   ]
  },
  {
   "cell_type": "code",
   "execution_count": 29,
   "metadata": {},
   "outputs": [],
   "source": [
    "for i in range(len(x_test)):   \n",
    "    x=re.sub('#\\S+',' ',x_test[i])\n",
    "    x=re.sub('@\\S+',' ',x)\n",
    "    x=re.sub('\\S+@\\S+',' ',x)\n",
    "    x=re.sub('https\\S+',' ',x)\n",
    "    x=re.sub('[^A-Za-z]',' ',x)\n",
    "    x=re.sub('\\d+',' ',x)\n",
    "    li=[]\n",
    "    for l in x.lower().split():\n",
    "        if l.isalpha()==True:\n",
    "            li.append(l)\n",
    "    str2=\"\"\n",
    "    for l in li:\n",
    "        if l not in stop_li:\n",
    "                str2+=l+\" \"\n",
    "    str_temp = word_tokenize(str2.lower())\n",
    "    str3=\"\"\n",
    "    for k in str_temp:\n",
    "        str3+=lemmatizer.lemmatize(k)+\" \"\n",
    "    x_test[i]=str3.strip()\n"
   ]
  },
  {
   "cell_type": "markdown",
   "metadata": {},
   "source": [
    "##### Generating tf-idf vectors for training as well as test data to feed to all the models"
   ]
  },
  {
   "cell_type": "code",
   "execution_count": 30,
   "metadata": {},
   "outputs": [
    {
     "data": {
      "text/plain": [
       "((11314, 1000), (7532, 1000))"
      ]
     },
     "execution_count": 30,
     "metadata": {},
     "output_type": "execute_result"
    }
   ],
   "source": [
    "from sklearn.feature_extraction.text import TfidfVectorizer\n",
    "tf = TfidfVectorizer(stop_words='english', max_features=1000)\n",
    "labels = tf.fit_transform(x_train+x_test)\n",
    "labels_train = tf.transform(x_train)\n",
    "labels_test = tf.transform(x_test)\n",
    "labels_train.shape, labels_test.shape"
   ]
  },
  {
   "cell_type": "code",
   "execution_count": 31,
   "metadata": {},
   "outputs": [],
   "source": [
    "labels_train=labels_train.toarray()\n",
    "labels_test=labels_test.toarray()"
   ]
  },
  {
   "cell_type": "code",
   "execution_count": 32,
   "metadata": {},
   "outputs": [],
   "source": [
    "import pandas as pd\n",
    "from sklearn import preprocessing \n",
    "import seaborn as sns\n",
    "import matplotlib.pyplot as plt\n",
    "from sklearn.svm import SVC\n",
    "import numpy as np\n",
    "from sklearn.metrics import accuracy_score"
   ]
  },
  {
   "cell_type": "markdown",
   "metadata": {},
   "source": [
    "##### Training a SVM model with \"linear\" kernel"
   ]
  },
  {
   "cell_type": "code",
   "execution_count": 33,
   "metadata": {},
   "outputs": [],
   "source": [
    "svm_linear = SVC(kernel='linear', C=1, random_state=0)\n",
    "X=labels_train\n",
    "y=np.array(list(train_data.target))\n",
    "svm_linear.fit(X,y)\n",
    "y_pred=svm_linear.predict(labels_test)"
   ]
  },
  {
   "cell_type": "code",
   "execution_count": 39,
   "metadata": {},
   "outputs": [
    {
     "name": "stdout",
     "output_type": "stream",
     "text": [
      "Accuracy of Linear kernel is: 68.09612320764738%\n",
      "Accuracy of Polynomial kernel is: 64.97610196494955%\n",
      "Accuracy of Gaussian kernel is: 70.33988316516198%\n"
     ]
    }
   ],
   "source": [
    "y_test=np.array(list(test_data.target))\n",
    "print(\"Accuracy of Linear kernel is: \"+ str(accuracy_score(y_test, y_pred)*100)+\"%\")\n",
    "print(\"Accuracy of Polynomial kernel is: \"+ str(accuracy_score(y_test, y_pred_pol)*100)+\"%\")\n",
    "print(\"Accuracy of Gaussian kernel is: \"+ str(accuracy_score(y_test, y_pred_gaus)*100)+\"%\")"
   ]
  },
  {
   "cell_type": "markdown",
   "metadata": {},
   "source": [
    "##### Training a SVM model with \"polynomial\" kernel"
   ]
  },
  {
   "cell_type": "code",
   "execution_count": 36,
   "metadata": {},
   "outputs": [],
   "source": [
    "svm_poly = SVC(kernel='poly', C=1, random_state=0)\n",
    "X=labels_train\n",
    "y=np.array(list(train_data.target))\n",
    "svm_poly.fit(X,y)\n",
    "y_pred_pol=svm_poly.predict(labels_test)"
   ]
  },
  {
   "cell_type": "code",
   "execution_count": 32,
   "metadata": {},
   "outputs": [
    {
     "data": {
      "text/plain": [
       "0.5724907063197026"
      ]
     },
     "execution_count": 32,
     "metadata": {},
     "output_type": "execute_result"
    }
   ],
   "source": [
    "y_test=np.array(list(test_data.target))\n",
    "accuracy_score(y_test, y_pred)"
   ]
  },
  {
   "cell_type": "markdown",
   "metadata": {},
   "source": [
    "##### Training a SVM model with \"Gaussian RBF(Radial Basis Function)\" kernel"
   ]
  },
  {
   "cell_type": "code",
   "execution_count": 37,
   "metadata": {},
   "outputs": [],
   "source": [
    "svm_rbf = SVC(kernel='rbf', gamma=1, random_state=0)\n",
    "X=labels_train\n",
    "y=np.array(list(train_data.target))\n",
    "svm_rbf.fit(X,y)\n",
    "y_pred_gaus=svm_rbf.predict(labels_test)"
   ]
  },
  {
   "cell_type": "code",
   "execution_count": 34,
   "metadata": {},
   "outputs": [
    {
     "data": {
      "text/plain": [
       "0.6820233669676049"
      ]
     },
     "execution_count": 34,
     "metadata": {},
     "output_type": "execute_result"
    }
   ],
   "source": [
    "y_test=np.array(list(test_data.target))\n",
    "accuracy_score(y_test, y_pred)"
   ]
  },
  {
   "cell_type": "markdown",
   "metadata": {},
   "source": [
    "##### The svm model with rbf kernel gave the best results"
   ]
  },
  {
   "cell_type": "code",
   "execution_count": 41,
   "metadata": {},
   "outputs": [],
   "source": [
    "from sklearn.neighbors import KNeighborsClassifier\n",
    "from sklearn.naive_bayes import MultinomialNB"
   ]
  },
  {
   "cell_type": "markdown",
   "metadata": {},
   "source": [
    "##### Training a KNN model"
   ]
  },
  {
   "cell_type": "code",
   "execution_count": 42,
   "metadata": {},
   "outputs": [
    {
     "name": "stdout",
     "output_type": "stream",
     "text": [
      "Accuracy of the trained KNN model is: 56.95698353690919%\n"
     ]
    }
   ],
   "source": [
    "knn = KNeighborsClassifier(n_neighbors=7)\n",
    "clf = knn.fit(labels_train,np.array(list(train_data.target)))\n",
    "y_pred_knn = clf.predict(labels_test)\n",
    "y_test=np.array(list(test_data.target))\n",
    "score_knn = accuracy_score(y_test, y_pred_knn)\n",
    "print(\"Accuracy of the trained KNN model is: \"+str(100*score_knn )+\"%\")"
   ]
  },
  {
   "cell_type": "markdown",
   "metadata": {},
   "source": [
    "##### Training a naive bayes model"
   ]
  },
  {
   "cell_type": "code",
   "execution_count": 43,
   "metadata": {},
   "outputs": [
    {
     "name": "stdout",
     "output_type": "stream",
     "text": [
      "Accuracy of the trained Naive Bayes model is: 70.18056293149229%\n"
     ]
    }
   ],
   "source": [
    "naive_bayes_classifier = MultinomialNB()\n",
    "naive_bayes_classifier.fit(labels_train,np.array(list(train_data.target)))\n",
    "y_pred_nb = naive_bayes_classifier.predict(labels_test)\n",
    "y_test=np.array(list(test_data.target))\n",
    "score_nb = accuracy_score(y_test, y_pred_nb)\n",
    "print(\"Accuracy of the trained Naive Bayes model is: \"+str(100*score_nb)+\"%\")"
   ]
  },
  {
   "cell_type": "markdown",
   "metadata": {},
   "source": [
    "##### Training a rocchio classifier model"
   ]
  },
  {
   "cell_type": "code",
   "execution_count": 44,
   "metadata": {},
   "outputs": [
    {
     "name": "stdout",
     "output_type": "stream",
     "text": [
      "Accuracy of the trained Rocchio Classification model is: 73.55284121083378%\n"
     ]
    }
   ],
   "source": [
    "from sklearn.feature_extraction.text import TfidfVectorizer\n",
    "from sklearn.preprocessing import LabelEncoder\n",
    "from sklearn.metrics.pairwise import pairwise_distances\n",
    "metric=\"euclidean\"\n",
    "vectorizer=TfidfVectorizer()\n",
    "trainX = vectorizer.fit_transform(train_data.data) \n",
    "trainy = train_data.target\n",
    "vectorizer=TfidfVectorizer()\n",
    "trainX = vectorizer.fit_transform(train_data.data) \n",
    "trainy = train_data.target\n",
    "n_samples, n_features = trainX.shape\n",
    "le = LabelEncoder()\n",
    "y_indices = le.fit_transform(trainy)\n",
    "classes = le.classes_\n",
    "n_classes = classes.size\n",
    "centroids = np.empty((n_classes, n_features), dtype=np.float64)\n",
    "n_cluster = np.zeros(n_classes)\n",
    "for current_class in range(n_classes):\n",
    "    center_mask = y_indices == current_class\n",
    "    n_cluster[current_class] = np.sum(center_mask)\n",
    "    centroids[current_class] = trainX[center_mask].mean(axis=0)\n",
    "def get_vectorizer_array(query):\n",
    "    return vectorizer.transform([query]).toarray()\n",
    "def pred(X):\n",
    "    return classes[pairwise_distances(X, centroids, metric=metric).argmin(axis=1)]\n",
    "y_test=np.array(list(test_data.target))\n",
    "testdata = [[a_, b_] for a_, b_ in zip(test_data.data,test_data.target)]\n",
    "y_pred_rcc=[pred(get_vectorizer_array(testcase[0]))[0] for testcase in testdata]\n",
    "score_rcc = accuracy_score(y_test, y_pred_rcc)\n",
    "print(\"Accuracy of the trained Rocchio Classification model is: \"+str(100*score_rcc)+\"%\")"
   ]
  },
  {
   "cell_type": "markdown",
   "metadata": {},
   "source": [
    "##### classification report for rach model"
   ]
  },
  {
   "cell_type": "code",
   "execution_count": 45,
   "metadata": {},
   "outputs": [],
   "source": [
    "from sklearn.metrics import classification_report\n",
    "target_names = categories"
   ]
  },
  {
   "cell_type": "code",
   "execution_count": 46,
   "metadata": {},
   "outputs": [
    {
     "name": "stdout",
     "output_type": "stream",
     "text": [
      "                          precision    recall  f1-score   support\n",
      "\n",
      "             alt.atheism       0.58      0.60      0.59       319\n",
      "           comp.graphics       0.54      0.60      0.57       389\n",
      " comp.os.ms-windows.misc       0.72      0.56      0.63       394\n",
      "comp.sys.ibm.pc.hardware       0.50      0.64      0.56       392\n",
      "   comp.sys.mac.hardware       0.65      0.62      0.63       385\n",
      "          comp.windows.x       0.65      0.61      0.63       395\n",
      "            misc.forsale       0.70      0.81      0.75       390\n",
      "               rec.autos       0.78      0.72      0.75       396\n",
      "         rec.motorcycles       0.83      0.77      0.80       398\n",
      "      rec.sport.baseball       0.72      0.78      0.75       397\n",
      "        rec.sport.hockey       0.94      0.78      0.85       399\n",
      "               sci.crypt       0.93      0.74      0.82       396\n",
      "         sci.electronics       0.42      0.67      0.52       393\n",
      "                 sci.med       0.65      0.69      0.67       396\n",
      "               sci.space       0.84      0.81      0.82       394\n",
      "  soc.religion.christian       0.72      0.73      0.73       398\n",
      "      talk.politics.guns       0.65      0.73      0.69       364\n",
      "   talk.politics.mideast       0.94      0.68      0.79       376\n",
      "      talk.politics.misc       0.63      0.51      0.56       310\n",
      "      talk.religion.misc       0.54      0.45      0.49       251\n",
      "\n",
      "                accuracy                           0.68      7532\n",
      "               macro avg       0.70      0.68      0.68      7532\n",
      "            weighted avg       0.70      0.68      0.69      7532\n",
      "\n"
     ]
    }
   ],
   "source": [
    "print(classification_report(y_test, y_pred, target_names=target_names))"
   ]
  },
  {
   "cell_type": "code",
   "execution_count": 47,
   "metadata": {},
   "outputs": [
    {
     "name": "stdout",
     "output_type": "stream",
     "text": [
      "                          precision    recall  f1-score   support\n",
      "\n",
      "             alt.atheism       0.42      0.53      0.47       319\n",
      "           comp.graphics       0.38      0.47      0.42       389\n",
      " comp.os.ms-windows.misc       0.44      0.57      0.49       394\n",
      "comp.sys.ibm.pc.hardware       0.35      0.51      0.42       392\n",
      "   comp.sys.mac.hardware       0.47      0.45      0.46       385\n",
      "          comp.windows.x       0.44      0.53      0.48       395\n",
      "            misc.forsale       0.50      0.54      0.52       390\n",
      "               rec.autos       0.60      0.53      0.56       396\n",
      "         rec.motorcycles       0.63      0.61      0.62       398\n",
      "      rec.sport.baseball       0.51      0.53      0.52       397\n",
      "        rec.sport.hockey       0.67      0.69      0.68       399\n",
      "               sci.crypt       0.77      0.66      0.71       396\n",
      "         sci.electronics       0.50      0.33      0.40       393\n",
      "                 sci.med       0.66      0.41      0.51       396\n",
      "               sci.space       0.74      0.71      0.72       394\n",
      "  soc.religion.christian       0.61      0.65      0.63       398\n",
      "      talk.politics.guns       0.62      0.57      0.60       364\n",
      "   talk.politics.mideast       0.76      0.65      0.70       376\n",
      "      talk.politics.misc       0.61      0.49      0.54       310\n",
      "      talk.religion.misc       0.43      0.33      0.37       251\n",
      "\n",
      "                accuracy                           0.54      7532\n",
      "               macro avg       0.56      0.54      0.54      7532\n",
      "            weighted avg       0.56      0.54      0.55      7532\n",
      "\n"
     ]
    }
   ],
   "source": [
    "print(classification_report(y_test, y_pred_knn, target_names=target_names))"
   ]
  },
  {
   "cell_type": "code",
   "execution_count": 48,
   "metadata": {},
   "outputs": [
    {
     "name": "stdout",
     "output_type": "stream",
     "text": [
      "                          precision    recall  f1-score   support\n",
      "\n",
      "             alt.atheism       0.56      0.61      0.59       319\n",
      "           comp.graphics       0.51      0.62      0.56       389\n",
      " comp.os.ms-windows.misc       0.63      0.65      0.64       394\n",
      "comp.sys.ibm.pc.hardware       0.54      0.56      0.55       392\n",
      "   comp.sys.mac.hardware       0.62      0.63      0.63       385\n",
      "          comp.windows.x       0.63      0.68      0.65       395\n",
      "            misc.forsale       0.68      0.81      0.74       390\n",
      "               rec.autos       0.75      0.70      0.72       396\n",
      "         rec.motorcycles       0.72      0.79      0.75       398\n",
      "      rec.sport.baseball       0.71      0.78      0.74       397\n",
      "        rec.sport.hockey       0.82      0.84      0.83       399\n",
      "               sci.crypt       0.90      0.76      0.82       396\n",
      "         sci.electronics       0.57      0.53      0.55       393\n",
      "                 sci.med       0.74      0.64      0.69       396\n",
      "               sci.space       0.81      0.80      0.80       394\n",
      "  soc.religion.christian       0.73      0.71      0.72       398\n",
      "      talk.politics.guns       0.60      0.78      0.68       364\n",
      "   talk.politics.mideast       0.90      0.78      0.84       376\n",
      "      talk.politics.misc       0.74      0.47      0.58       310\n",
      "      talk.religion.misc       0.50      0.31      0.39       251\n",
      "\n",
      "                accuracy                           0.68      7532\n",
      "               macro avg       0.68      0.67      0.67      7532\n",
      "            weighted avg       0.69      0.68      0.68      7532\n",
      "\n"
     ]
    }
   ],
   "source": [
    "print(classification_report(y_test, y_pred_nb, target_names=target_names))"
   ]
  },
  {
   "cell_type": "code",
   "execution_count": 49,
   "metadata": {},
   "outputs": [
    {
     "name": "stdout",
     "output_type": "stream",
     "text": [
      "                          precision    recall  f1-score   support\n",
      "\n",
      "             alt.atheism       0.71      0.55      0.62       319\n",
      "           comp.graphics       0.55      0.76      0.64       389\n",
      " comp.os.ms-windows.misc       0.74      0.58      0.65       394\n",
      "comp.sys.ibm.pc.hardware       0.64      0.59      0.61       392\n",
      "   comp.sys.mac.hardware       0.73      0.74      0.73       385\n",
      "          comp.windows.x       0.79      0.69      0.74       395\n",
      "            misc.forsale       0.68      0.82      0.74       390\n",
      "               rec.autos       0.88      0.72      0.79       396\n",
      "         rec.motorcycles       0.97      0.88      0.93       398\n",
      "      rec.sport.baseball       0.92      0.87      0.89       397\n",
      "        rec.sport.hockey       0.97      0.85      0.90       399\n",
      "               sci.crypt       0.95      0.66      0.78       396\n",
      "         sci.electronics       0.31      0.81      0.45       393\n",
      "                 sci.med       0.92      0.62      0.74       396\n",
      "               sci.space       0.89      0.81      0.85       394\n",
      "  soc.religion.christian       0.75      0.73      0.74       398\n",
      "      talk.politics.guns       0.73      0.73      0.73       364\n",
      "   talk.politics.mideast       0.99      0.66      0.79       376\n",
      "      talk.politics.misc       0.60      0.62      0.61       310\n",
      "      talk.religion.misc       0.51      0.47      0.49       251\n",
      "\n",
      "                accuracy                           0.72      7532\n",
      "               macro avg       0.76      0.71      0.72      7532\n",
      "            weighted avg       0.77      0.72      0.73      7532\n",
      "\n"
     ]
    }
   ],
   "source": [
    "print(classification_report(y_test, y_pred_rcc, target_names=target_names))"
   ]
  },
  {
   "cell_type": "code",
   "execution_count": 62,
   "metadata": {},
   "outputs": [
    {
     "name": "stdout",
     "output_type": "stream",
     "text": [
      "0.5806651951394515\n",
      "0.7086098102291571\n",
      "0.7815187444875697\n",
      "0.6856428769754113\n"
     ]
    }
   ],
   "source": [
    "from sklearn.metrics import precision_score\n",
    "print(precision_score(y_test, y_pred_knn,average='macro'))\n",
    "print(precision_score(y_test, y_pred_nb,average='macro'))\n",
    "print(precision_score(y_test, y_pred_rcc,average='macro'))\n",
    "print(precision_score(y_test, y_pred,average='macro'))"
   ]
  },
  {
   "cell_type": "code",
   "execution_count": null,
   "metadata": {},
   "outputs": [],
   "source": []
  },
  {
   "cell_type": "code",
   "execution_count": 63,
   "metadata": {},
   "outputs": [
    {
     "name": "stdout",
     "output_type": "stream",
     "text": [
      "0.5671759598064628\n",
      "0.6900894855401902\n",
      "0.7418023429510718\n",
      "0.6765011505568592\n"
     ]
    }
   ],
   "source": [
    "from sklearn.metrics import f1_score\n",
    "print(f1_score(y_test, y_pred_knn,average='macro'))\n",
    "print(f1_score(y_test, y_pred_nb,average='macro'))\n",
    "print(f1_score(y_test, y_pred_rcc,average='macro'))\n",
    "print(f1_score(y_test, y_pred,average='macro'))"
   ]
  },
  {
   "cell_type": "code",
   "execution_count": 64,
   "metadata": {},
   "outputs": [
    {
     "name": "stdout",
     "output_type": "stream",
     "text": [
      "0.5643073489248479\n",
      "0.6906342678079089\n",
      "0.7276265363032688\n",
      "0.6731401407195607\n"
     ]
    }
   ],
   "source": [
    "from sklearn.metrics import recall_score\n",
    "print(recall_score(y_test, y_pred_knn,average='macro'))\n",
    "print(recall_score(y_test, y_pred_nb,average='macro'))\n",
    "print(recall_score(y_test, y_pred_rcc,average='macro'))\n",
    "print(recall_score(y_test, y_pred,average='macro'))"
   ]
  },
  {
   "cell_type": "code",
   "execution_count": 56,
   "metadata": {},
   "outputs": [],
   "source": [
    "from sklearn.metrics import confusion_matrix\n",
    "cm = confusion_matrix(y_test, y_pred_knn)"
   ]
  },
  {
   "cell_type": "code",
   "execution_count": 58,
   "metadata": {},
   "outputs": [],
   "source": [
    "tp_and_fn = cm.sum(1)\n",
    "tp_and_fp = cm.sum(0)\n",
    "tp = cm.diagonal()\n",
    "\n",
    "precision = tp / tp_and_fp\n",
    "recall = tp / tp_and_fn"
   ]
  },
  {
   "cell_type": "code",
   "execution_count": 60,
   "metadata": {},
   "outputs": [
    {
     "data": {
      "text/plain": [
       "array([0.43478261, 0.41629956, 0.43832599, 0.3721374 , 0.48901099,\n",
       "       0.45341615, 0.54814815, 0.63636364, 0.66849315, 0.58090186,\n",
       "       0.614     , 0.83040936, 0.46464646, 0.6557971 , 0.81741573,\n",
       "       0.62302483, 0.63611111, 0.81028939, 0.60474308, 0.51898734])"
      ]
     },
     "execution_count": 60,
     "metadata": {},
     "output_type": "execute_result"
    }
   ],
   "source": [
    "precision"
   ]
  },
  {
   "cell_type": "code",
   "execution_count": null,
   "metadata": {},
   "outputs": [],
   "source": []
  }
 ],
 "metadata": {
  "kernelspec": {
   "display_name": "Python 3",
   "language": "python",
   "name": "python3"
  },
  "language_info": {
   "codemirror_mode": {
    "name": "ipython",
    "version": 3
   },
   "file_extension": ".py",
   "mimetype": "text/x-python",
   "name": "python",
   "nbconvert_exporter": "python",
   "pygments_lexer": "ipython3",
   "version": "3.8.5"
  }
 },
 "nbformat": 4,
 "nbformat_minor": 4
}
